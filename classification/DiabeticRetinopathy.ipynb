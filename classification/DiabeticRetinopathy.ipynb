{
 "cells": [
  {
   "cell_type": "code",
   "execution_count": 1,
   "id": "b9e52001",
   "metadata": {},
   "outputs": [],
   "source": [
    "# Required Imports\n",
    "import numpy as np\n",
    "import sklearn\n",
    "from sklearn.model_selection import train_test_split\n",
    "\n",
    "\n",
    "# ML Algorithms\n",
    "from sklearn.linear_model import LogisticRegression\n",
    "from sklearn.svm import SVC\n",
    "from sklearn.tree import DecisionTreeClassifier\n",
    "from sklearn.ensemble import RandomForestClassifier\n",
    "from sklearn.neighbors import KNeighborsClassifier\n",
    "from sklearn.ensemble import AdaBoostClassifier\n",
    "from sklearn.naive_bayes import GaussianNB\n",
    "from sklearn.neural_network import MLPClassifier"
   ]
  },
  {
   "cell_type": "code",
   "execution_count": 2,
   "id": "79f6490a",
   "metadata": {},
   "outputs": [],
   "source": [
    "# Load the data and split into features and targets, X and y\n",
    "data = np.loadtxt(\"./data/messidor_features.arff\",dtype='float64',delimiter=',',skiprows=24) \n",
    "X = data[:,0:19]\n",
    "y = data[:,19:20].astype(np.int32).reshape(1151,)"
   ]
  },
  {
   "cell_type": "code",
   "execution_count": 3,
   "id": "cd0390df",
   "metadata": {},
   "outputs": [],
   "source": [
    "# Split the data\n",
    "X_trn, X_tst, y_trn, y_tst = sklearn.model_selection.train_test_split(X, y, test_size=0.3, random_state=0)"
   ]
  },
  {
   "cell_type": "code",
   "execution_count": 4,
   "id": "5a260096",
   "metadata": {},
   "outputs": [],
   "source": [
    "# Scale the data\n",
    "scaler = sklearn.preprocessing.StandardScaler()\n",
    "X_trn = scaler.fit_transform(X_trn)\n",
    "X_tst = scaler.fit_transform(X_tst)"
   ]
  },
  {
   "cell_type": "markdown",
   "id": "043efb61",
   "metadata": {},
   "source": [
    "## Logistic Regression (for classification)"
   ]
  },
  {
   "cell_type": "code",
   "execution_count": 5,
   "id": "890d6fab",
   "metadata": {},
   "outputs": [],
   "source": [
    "# Test a few different hyperparameters for Logistic Regression: C, solver\n",
    "c_vals_lr = [0.0001,0.001,0.01,0.1,1.0,10.0]\n",
    "s_vals_lr = ['newton-cg', 'lbfgs', 'liblinear', 'sag', 'saga']"
   ]
  },
  {
   "cell_type": "code",
   "execution_count": 6,
   "id": "927c0c52",
   "metadata": {},
   "outputs": [
    {
     "name": "stdout",
     "output_type": "stream",
     "text": [
      "Fitting 3 folds for each of 30 candidates, totalling 90 fits\n",
      "LogisticRegression(C=10.0, max_iter=10000, random_state=0, solver='newton-cg')\n",
      "0.7590062111801242 train accuracy\n",
      "0.7341040462427746 test accuracy\n"
     ]
    }
   ],
   "source": [
    "# Train different logistic regression models, using grid search and cross validation to find best hyperparameters.\n",
    "lr = sklearn.linear_model.LogisticRegression(max_iter=10000,random_state=0)\n",
    "param_grid={'C': c_vals_lr, 'solver' : s_vals_lr}\n",
    "gs_lr = sklearn.model_selection.GridSearchCV(lr,param_grid,verbose=1,cv=3).fit(X_trn,y_trn) \n",
    "print(gs_lr.best_estimator_)\n",
    "print(f'{gs_lr.best_estimator_.score(X_trn,y_trn)} train accuracy') \n",
    "print(f'{gs_lr.best_estimator_.score(X_tst,y_tst)} test accuracy')"
   ]
  },
  {
   "cell_type": "markdown",
   "id": "d991036e",
   "metadata": {},
   "source": [
    "## Support Vector Classification"
   ]
  },
  {
   "cell_type": "code",
   "execution_count": 7,
   "id": "f2eab3e8",
   "metadata": {},
   "outputs": [],
   "source": [
    "# Test a few different hyperparameters for SVM: C, gamma\n",
    "c_vals_svm = [0.01,0.1,1.0,10.0,100.0,1000.0]\n",
    "g_vals_svm = [0.001,0.01,0.1,1.0,10.0]"
   ]
  },
  {
   "cell_type": "code",
   "execution_count": 8,
   "id": "a31e74b7",
   "metadata": {},
   "outputs": [
    {
     "name": "stdout",
     "output_type": "stream",
     "text": [
      "Fitting 3 folds for each of 30 candidates, totalling 90 fits\n",
      "SVC(C=1000.0, gamma=0.001, random_state=0)\n",
      "0.7813664596273292 train accuracy\n",
      "0.7514450867052023 test accuracy\n"
     ]
    }
   ],
   "source": [
    "# Train different svm models, using grid search and cross validation to find best hyperparameters.\n",
    "svm = sklearn.svm.SVC(kernel='rbf',random_state=0)\n",
    "param_grid={'C': c_vals_svm, 'gamma' : g_vals_svm}\n",
    "gs_svm = sklearn.model_selection.GridSearchCV(svm,param_grid,verbose=1,cv=3).fit(X_trn,y_trn)\n",
    "print(gs_svm.best_estimator_)\n",
    "print(f'{gs_svm.best_estimator_.score(X_trn,y_trn)} train accuracy') \n",
    "print(f'{gs_svm.best_estimator_.score(X_tst,y_tst)} test accuracy')"
   ]
  },
  {
   "cell_type": "markdown",
   "id": "bfe3fb3f",
   "metadata": {},
   "source": [
    "## Decision Tree Classification"
   ]
  },
  {
   "cell_type": "code",
   "execution_count": 9,
   "id": "8173a282",
   "metadata": {},
   "outputs": [],
   "source": [
    "# Test a few different hyperparameters for Decision Tree: criterion, max_depth, min_samples_leaf\n",
    "crit_vals_dt = ['gini', 'entropy']\n",
    "dep_vals_dt = [5, 10, 25, 50, 100]\n",
    "samp_leaf_dt = [5, 10, 25, 50, 100]"
   ]
  },
  {
   "cell_type": "code",
   "execution_count": 10,
   "id": "5349e8fd",
   "metadata": {},
   "outputs": [
    {
     "name": "stdout",
     "output_type": "stream",
     "text": [
      "Fitting 3 folds for each of 50 candidates, totalling 150 fits\n",
      "DecisionTreeClassifier(max_depth=5, min_samples_leaf=50, random_state=0)\n",
      "0.698136645962733 train accuracy\n",
      "0.6358381502890174 test accuracy\n"
     ]
    }
   ],
   "source": [
    "# Train different DecisionTree models, using grid search and cross validation to find best hyperparameters.\n",
    "dt = sklearn.tree.DecisionTreeClassifier(random_state=0)\n",
    "param_grid={'criterion': crit_vals_dt, 'max_depth' : dep_vals_dt, 'min_samples_leaf' : samp_leaf_dt}\n",
    "gs_dt = sklearn.model_selection.GridSearchCV(dt,param_grid,verbose=1,cv=3).fit(X_trn,y_trn)\n",
    "print(gs_dt.best_estimator_)\n",
    "print(f'{gs_dt.best_estimator_.score(X_trn,y_trn)} train accuracy') \n",
    "print(f'{gs_dt.best_estimator_.score(X_tst,y_tst)} test accuracy')"
   ]
  },
  {
   "cell_type": "markdown",
   "id": "b8007ca6",
   "metadata": {},
   "source": [
    "## Random Forest Classification"
   ]
  },
  {
   "cell_type": "code",
   "execution_count": 11,
   "id": "fdc58ddb",
   "metadata": {},
   "outputs": [],
   "source": [
    "# Test a few different hyperparameters for Random Forest: max_depth, n_estimators\n",
    "dep_vals_rf = [5, 10, 25, 50, 100]\n",
    "est_vals_rf = [1,5,25,50,100,250,500]"
   ]
  },
  {
   "cell_type": "code",
   "execution_count": 12,
   "id": "7f6a51d7",
   "metadata": {},
   "outputs": [
    {
     "name": "stdout",
     "output_type": "stream",
     "text": [
      "Fitting 3 folds for each of 35 candidates, totalling 105 fits\n",
      "RandomForestClassifier(max_depth=10, n_estimators=250, random_state=0)\n",
      "0.9453416149068323 train accuracy\n",
      "0.6734104046242775 test accuracy\n"
     ]
    }
   ],
   "source": [
    "# Train different RandomForest models, using grid search and cross validation to find best hyperparameters.\n",
    "rf = sklearn.ensemble.RandomForestClassifier(random_state=0)\n",
    "param_grid={'max_depth': dep_vals_rf, 'n_estimators' : est_vals_rf}\n",
    "gs_rf = sklearn.model_selection.GridSearchCV(rf,param_grid,verbose=1,cv=3).fit(X_trn,y_trn)\n",
    "print(gs_rf.best_estimator_)\n",
    "print(f'{gs_rf.best_estimator_.score(X_trn,y_trn)} train accuracy') \n",
    "print(f'{gs_rf.best_estimator_.score(X_tst,y_tst)} test accuracy')"
   ]
  },
  {
   "cell_type": "markdown",
   "id": "f448ae02",
   "metadata": {},
   "source": [
    "## K-nearest Neighbours Classification"
   ]
  },
  {
   "cell_type": "code",
   "execution_count": 13,
   "id": "3b478ac2",
   "metadata": {},
   "outputs": [],
   "source": [
    "# Test a few different hyperparameters for K-nearest neighbours: n_neighbors, weights, algorithm\n",
    "n_vals_k = [1, 3, 5, 7, 9, 11, 13, 15, 17, 19, 21, 23, 25, 27, 29]\n",
    "w_vals_k = ['uniform', 'distance']\n",
    "m_vals_k = ['euclidean', 'manhattan', 'minkowski']"
   ]
  },
  {
   "cell_type": "code",
   "execution_count": 14,
   "id": "a80ba22f",
   "metadata": {},
   "outputs": [
    {
     "name": "stdout",
     "output_type": "stream",
     "text": [
      "Fitting 3 folds for each of 90 candidates, totalling 270 fits\n",
      "KNeighborsClassifier(metric='manhattan', n_neighbors=29)\n",
      "0.684472049689441 train accuracy\n",
      "0.6676300578034682 test accuracy\n"
     ]
    }
   ],
   "source": [
    "# Train different K-neighbors models, using grid search and cross validation to find best hyperparameters.\n",
    "kn = sklearn.neighbors.KNeighborsClassifier()\n",
    "param_grid={'n_neighbors': n_vals_k, 'weights' : w_vals_k, 'metric' : m_vals_k}\n",
    "gs_kn = sklearn.model_selection.GridSearchCV(kn,param_grid,verbose=1,cv=3).fit(X_trn,y_trn)\n",
    "print(gs_kn.best_estimator_)\n",
    "print(f'{gs_kn.best_estimator_.score(X_trn,y_trn)} train accuracy') \n",
    "print(f'{gs_kn.best_estimator_.score(X_tst,y_tst)} test accuracy')"
   ]
  },
  {
   "cell_type": "markdown",
   "id": "c826c0bc",
   "metadata": {},
   "source": [
    "## AdaBoost Classification"
   ]
  },
  {
   "cell_type": "code",
   "execution_count": 15,
   "id": "44000cad",
   "metadata": {},
   "outputs": [],
   "source": [
    "# Test a few different hyperparameters for AdaBoost: n_estimators, learning_rate, algorithm\n",
    "est_vals_ada = [1,5,10,25,50,80,85,100]\n",
    "learn_vals_ada = [0.1, 0.5, 1.0, 1.5, 2.0]\n",
    "a_vals_ada = ['SAMME', 'SAMME.R',]"
   ]
  },
  {
   "cell_type": "code",
   "execution_count": 16,
   "id": "f34747e1",
   "metadata": {},
   "outputs": [
    {
     "name": "stdout",
     "output_type": "stream",
     "text": [
      "Fitting 3 folds for each of 80 candidates, totalling 240 fits\n",
      "AdaBoostClassifier(algorithm='SAMME', learning_rate=1.5, n_estimators=80,\n",
      "                   random_state=0)\n",
      "0.7950310559006211 train accuracy\n",
      "0.6734104046242775 test accuracy\n"
     ]
    }
   ],
   "source": [
    "# Train different AdaBoost models, using grid search and cross validation to find best hyperparameters.\n",
    "ada = sklearn.ensemble.AdaBoostClassifier(random_state=0)\n",
    "param_grid={'n_estimators': est_vals_ada, 'learning_rate' : learn_vals_ada, 'algorithm' : a_vals_ada}\n",
    "gs_ada = sklearn.model_selection.GridSearchCV(ada,param_grid,verbose=1,cv=3).fit(X_trn,y_trn)\n",
    "print(gs_ada.best_estimator_)\n",
    "print(f'{gs_ada.best_estimator_.score(X_trn,y_trn)} train accuracy') \n",
    "print(f'{gs_ada.best_estimator_.score(X_tst,y_tst)} test accuracy')"
   ]
  },
  {
   "cell_type": "markdown",
   "id": "2fa95a14",
   "metadata": {},
   "source": [
    "## Gaussian Naive Bayes Classification"
   ]
  },
  {
   "cell_type": "code",
   "execution_count": 17,
   "id": "3e750fce",
   "metadata": {},
   "outputs": [],
   "source": [
    "#TODO"
   ]
  },
  {
   "cell_type": "code",
   "execution_count": null,
   "id": "aaa141cf",
   "metadata": {},
   "outputs": [],
   "source": []
  },
  {
   "cell_type": "markdown",
   "id": "44ac9116",
   "metadata": {},
   "source": [
    "## Neural Network Classification"
   ]
  },
  {
   "cell_type": "code",
   "execution_count": 20,
   "id": "6f664b6e",
   "metadata": {},
   "outputs": [],
   "source": [
    "# Test a few different hyperparameters for Neural Networks: hidden_layer_sizes, activation, solver\n",
    "hl_vals = [(),(10,),(50,),(100,),(10,10),(50,50),(100,50),(100,100)]\n",
    "solv_vals = ['sgd','adam']"
   ]
  },
  {
   "cell_type": "code",
   "execution_count": 21,
   "id": "76c53a91",
   "metadata": {},
   "outputs": [
    {
     "name": "stdout",
     "output_type": "stream",
     "text": [
      "Fitting 3 folds for each of 16 candidates, totalling 48 fits\n",
      "MLPClassifier(batch_size=100, hidden_layer_sizes=(10,), learning_rate_init=0.01,\n",
      "              max_iter=1000, random_state=0, solver='sgd')\n",
      "0.7813664596273292 train accuracy\n",
      "0.7341040462427746 test accuracy\n"
     ]
    }
   ],
   "source": [
    "# Train different Neural Network models, using grid search and cross validation to find best hyperparameters.\n",
    "nn = sklearn.neural_network.MLPClassifier(activation='relu',max_iter=1000,batch_size=100,learning_rate_init=0.01,random_state=0)\n",
    "param_grid={'hidden_layer_sizes' : hl_vals, 'solver' : solv_vals}\n",
    "gs_nn = sklearn.model_selection.GridSearchCV(nn,param_grid,verbose=1,cv=3).fit(X_trn,y_trn)\n",
    "print(gs_nn.best_estimator_)\n",
    "print(f'{gs_nn.best_estimator_.score(X_trn,y_trn)} train accuracy') \n",
    "print(f'{gs_nn.best_estimator_.score(X_tst,y_tst)} test accuracy')"
   ]
  },
  {
   "cell_type": "code",
   "execution_count": null,
   "id": "d64c7a14",
   "metadata": {},
   "outputs": [],
   "source": []
  }
 ],
 "metadata": {
  "kernelspec": {
   "display_name": "Python 3",
   "language": "python",
   "name": "python3"
  },
  "language_info": {
   "codemirror_mode": {
    "name": "ipython",
    "version": 3
   },
   "file_extension": ".py",
   "mimetype": "text/x-python",
   "name": "python",
   "nbconvert_exporter": "python",
   "pygments_lexer": "ipython3",
   "version": "3.8.8"
  }
 },
 "nbformat": 4,
 "nbformat_minor": 5
}
