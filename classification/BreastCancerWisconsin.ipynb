{
 "cells": [
  {
   "cell_type": "code",
   "execution_count": 3,
   "id": "2ff5590d",
   "metadata": {},
   "outputs": [],
   "source": [
    "# Required Imports\n",
    "import numpy as np\n",
    "import sklearn\n",
    "from sklearn.model_selection import train_test_split\n",
    "\n",
    "\n",
    "# ML Algorithms\n",
    "from sklearn.linear_model import LogisticRegression\n",
    "from sklearn.svm import SVC\n",
    "from sklearn.tree import DecisionTreeClassifier\n",
    "from sklearn.ensemble import RandomForestClassifier\n",
    "from sklearn.neighbors import KNeighborsClassifier\n",
    "from sklearn.ensemble import AdaBoostClassifier\n",
    "from sklearn.naive_bayes import GaussianNB\n",
    "from sklearn.neural_network import MLPClassifier"
   ]
  },
  {
   "cell_type": "code",
   "execution_count": 21,
   "id": "5d0d070e",
   "metadata": {},
   "outputs": [],
   "source": [
    "# Load the data and split into features and targets, X and y\n",
    "cols = np.arange(2,32)\n",
    "X = np.loadtxt(\"./data/wdbc.data\",usecols=cols,delimiter=',') \n",
    "y = np.loadtxt(\"./data/wdbc.data\",dtype=str,usecols=1,delimiter=',')\n",
    "\n",
    "# Assign 'M' (Malignant) a value 1, and 'B' (Benign) a value 0\n",
    "for i in range(len(y)):\n",
    "    if y[i] == 'M':\n",
    "        y[i] = 1\n",
    "    else: \n",
    "        y[i] = 0"
   ]
  },
  {
   "cell_type": "code",
   "execution_count": 25,
   "id": "8460b25a",
   "metadata": {},
   "outputs": [],
   "source": [
    "# Split the data\n",
    "X_trn, X_tst, y_trn, y_tst = sklearn.model_selection.train_test_split(X, y, test_size=0.3, random_state=0)"
   ]
  },
  {
   "cell_type": "code",
   "execution_count": 26,
   "id": "f7c05ef5",
   "metadata": {},
   "outputs": [],
   "source": [
    "# Scale the data\n",
    "scaler = sklearn.preprocessing.StandardScaler()\n",
    "X_trn = scaler.fit_transform(X_trn)\n",
    "X_tst = scaler.fit_transform(X_tst)"
   ]
  },
  {
   "cell_type": "markdown",
   "id": "6b35f432",
   "metadata": {},
   "source": [
    "## Logistic Regression (for classification)"
   ]
  },
  {
   "cell_type": "code",
   "execution_count": 27,
   "id": "c7714590",
   "metadata": {},
   "outputs": [],
   "source": [
    "# Test a few different hyperparameters for Logistic Regression: C, solver\n",
    "c_vals_lr = [0.0001,0.001,0.01,0.1,1.0,10.0]\n",
    "s_vals_lr = ['newton-cg', 'lbfgs', 'liblinear', 'sag', 'saga']"
   ]
  },
  {
   "cell_type": "code",
   "execution_count": 28,
   "id": "f7684bff",
   "metadata": {},
   "outputs": [
    {
     "name": "stdout",
     "output_type": "stream",
     "text": [
      "Fitting 3 folds for each of 30 candidates, totalling 90 fits\n",
      "LogisticRegression(max_iter=10000, random_state=0, solver='newton-cg')\n",
      "0.9899497487437185 train accuracy\n",
      "0.9649122807017544 test accuracy\n"
     ]
    }
   ],
   "source": [
    "# Train different logistic regression models, using grid search and cross validation to find best hyperparameters.\n",
    "lr = sklearn.linear_model.LogisticRegression(max_iter=10000,random_state=0)\n",
    "param_grid={'C': c_vals_lr, 'solver' : s_vals_lr}\n",
    "gs_lr = sklearn.model_selection.GridSearchCV(lr,param_grid,verbose=1,cv=3).fit(X_trn,y_trn) \n",
    "print(gs_lr.best_estimator_)\n",
    "print(f'{gs_lr.best_estimator_.score(X_trn,y_trn)} train accuracy') \n",
    "print(f'{gs_lr.best_estimator_.score(X_tst,y_tst)} test accuracy')"
   ]
  },
  {
   "cell_type": "markdown",
   "id": "31dd209d",
   "metadata": {},
   "source": [
    "## Support Vector Classification"
   ]
  },
  {
   "cell_type": "code",
   "execution_count": 29,
   "id": "479efca3",
   "metadata": {},
   "outputs": [],
   "source": [
    "# Test a few different hyperparameters for SVM: C, gamma\n",
    "c_vals_svm = [0.01,0.1,1.0,10.0,100.0,1000.0]\n",
    "g_vals_svm = [0.001,0.01,0.1,1.0,10.0]"
   ]
  },
  {
   "cell_type": "code",
   "execution_count": 31,
   "id": "b510fa41",
   "metadata": {},
   "outputs": [
    {
     "name": "stdout",
     "output_type": "stream",
     "text": [
      "Fitting 3 folds for each of 30 candidates, totalling 90 fits\n",
      "SVC(C=1000.0, gamma=0.001, random_state=0)\n",
      "0.9899497487437185 train accuracy\n",
      "0.935672514619883 test accuracy\n"
     ]
    }
   ],
   "source": [
    "# Train different svm models, using grid search and cross validation to find best hyperparameters.\n",
    "svm = sklearn.svm.SVC(kernel='rbf',random_state=0)\n",
    "param_grid={'C': c_vals_svm, 'gamma' : g_vals_svm}\n",
    "gs_svm = sklearn.model_selection.GridSearchCV(svm,param_grid,verbose=1,cv=3).fit(X_trn,y_trn)\n",
    "print(gs_svm.best_estimator_)\n",
    "print(f'{gs_svm.best_estimator_.score(X_trn,y_trn)} train accuracy') \n",
    "print(f'{gs_svm.best_estimator_.score(X_tst,y_tst)} test accuracy')"
   ]
  },
  {
   "cell_type": "markdown",
   "id": "cfac8d93",
   "metadata": {},
   "source": [
    "## Decision Tree Classification"
   ]
  },
  {
   "cell_type": "code",
   "execution_count": 32,
   "id": "df79c196",
   "metadata": {},
   "outputs": [],
   "source": [
    "# Test a few different hyperparameters for Decision Tree: criterion, max_depth, min_samples_leaf\n",
    "crit_vals_dt = ['gini', 'entropy']\n",
    "dep_vals_dt = [5, 10, 25, 50, 100]\n",
    "samp_leaf_dt = [5, 10, 25, 50, 100]"
   ]
  },
  {
   "cell_type": "code",
   "execution_count": 33,
   "id": "000b5ec7",
   "metadata": {},
   "outputs": [
    {
     "name": "stdout",
     "output_type": "stream",
     "text": [
      "Fitting 3 folds for each of 50 candidates, totalling 150 fits\n",
      "DecisionTreeClassifier(max_depth=5, min_samples_leaf=5, random_state=0)\n",
      "0.9623115577889447 train accuracy\n",
      "0.9415204678362573 test accuracy\n"
     ]
    }
   ],
   "source": [
    "# Train different DecisionTree models, using grid search and cross validation to find best hyperparameters.\n",
    "dt = sklearn.tree.DecisionTreeClassifier(random_state=0)\n",
    "param_grid={'criterion': crit_vals_dt, 'max_depth' : dep_vals_dt, 'min_samples_leaf' : samp_leaf_dt}\n",
    "gs_dt = sklearn.model_selection.GridSearchCV(dt,param_grid,verbose=1,cv=3).fit(X_trn,y_trn)\n",
    "print(gs_dt.best_estimator_)\n",
    "print(f'{gs_dt.best_estimator_.score(X_trn,y_trn)} train accuracy') \n",
    "print(f'{gs_dt.best_estimator_.score(X_tst,y_tst)} test accuracy')"
   ]
  },
  {
   "cell_type": "markdown",
   "id": "1a7a8316",
   "metadata": {},
   "source": [
    "## Random Forest Classification"
   ]
  },
  {
   "cell_type": "code",
   "execution_count": 34,
   "id": "f23b8530",
   "metadata": {},
   "outputs": [],
   "source": [
    "# Test a few different hyperparameters for Random Forest: max_depth, n_estimators\n",
    "dep_vals_rf = [5, 10, 25, 50, 100]\n",
    "est_vals_rf = [1,5,25,50,100,250,500]"
   ]
  },
  {
   "cell_type": "code",
   "execution_count": 35,
   "id": "0a37ca29",
   "metadata": {},
   "outputs": [
    {
     "name": "stdout",
     "output_type": "stream",
     "text": [
      "Fitting 3 folds for each of 35 candidates, totalling 105 fits\n",
      "RandomForestClassifier(max_depth=10, n_estimators=250, random_state=0)\n",
      "1.0 train accuracy\n",
      "0.9707602339181286 test accuracy\n"
     ]
    }
   ],
   "source": [
    "# Train different RandomForest models, using grid search and cross validation to find best hyperparameters.\n",
    "rf = sklearn.ensemble.RandomForestClassifier(random_state=0)\n",
    "param_grid={'max_depth': dep_vals_rf, 'n_estimators' : est_vals_rf}\n",
    "gs_rf = sklearn.model_selection.GridSearchCV(rf,param_grid,verbose=1,cv=3).fit(X_trn,y_trn)\n",
    "print(gs_rf.best_estimator_)\n",
    "print(f'{gs_rf.best_estimator_.score(X_trn,y_trn)} train accuracy') \n",
    "print(f'{gs_rf.best_estimator_.score(X_tst,y_tst)} test accuracy')"
   ]
  },
  {
   "cell_type": "markdown",
   "id": "24d21cf1",
   "metadata": {},
   "source": [
    "## K-nearest Neighbours Classification"
   ]
  },
  {
   "cell_type": "code",
   "execution_count": 36,
   "id": "0c779f89",
   "metadata": {},
   "outputs": [],
   "source": [
    "# Test a few different hyperparameters for K-nearest neighbours: n_neighbors, weights, algorithm\n",
    "n_vals_k = [1, 3, 5, 7, 9, 11, 13, 15, 17, 19, 21, 23, 25, 27, 29]\n",
    "w_vals_k = ['uniform', 'distance']\n",
    "m_vals_k = ['euclidean', 'manhattan', 'minkowski']"
   ]
  },
  {
   "cell_type": "code",
   "execution_count": 37,
   "id": "c35ab6f4",
   "metadata": {},
   "outputs": [
    {
     "name": "stdout",
     "output_type": "stream",
     "text": [
      "Fitting 3 folds for each of 90 candidates, totalling 270 fits\n",
      "KNeighborsClassifier(metric='manhattan', n_neighbors=7)\n",
      "0.9698492462311558 train accuracy\n",
      "0.9532163742690059 test accuracy\n"
     ]
    }
   ],
   "source": [
    "# Train different K-neighbors models, using grid search and cross validation to find best hyperparameters.\n",
    "kn = sklearn.neighbors.KNeighborsClassifier()\n",
    "param_grid={'n_neighbors': n_vals_k, 'weights' : w_vals_k, 'metric' : m_vals_k}\n",
    "gs_kn = sklearn.model_selection.GridSearchCV(kn,param_grid,verbose=1,cv=3).fit(X_trn,y_trn)\n",
    "print(gs_kn.best_estimator_)\n",
    "print(f'{gs_kn.best_estimator_.score(X_trn,y_trn)} train accuracy') \n",
    "print(f'{gs_kn.best_estimator_.score(X_tst,y_tst)} test accuracy')"
   ]
  },
  {
   "cell_type": "markdown",
   "id": "569fe3b9",
   "metadata": {},
   "source": [
    "## AdaBoost Classification"
   ]
  },
  {
   "cell_type": "code",
   "execution_count": 38,
   "id": "a3bf45d9",
   "metadata": {},
   "outputs": [],
   "source": [
    "# Test a few different hyperparameters for AdaBoost: n_estimators, learning_rate, algorithm\n",
    "est_vals_ada = [1,5,10,25,50,80,85,100]\n",
    "learn_vals_ada = [0.1, 0.5, 1.0, 1.5, 2.0]\n",
    "a_vals_ada = ['SAMME', 'SAMME.R',]"
   ]
  },
  {
   "cell_type": "code",
   "execution_count": 39,
   "id": "ce8d16b8",
   "metadata": {},
   "outputs": [
    {
     "name": "stdout",
     "output_type": "stream",
     "text": [
      "Fitting 3 folds for each of 80 candidates, totalling 240 fits\n",
      "AdaBoostClassifier(learning_rate=1.5, random_state=0)\n",
      "1.0 train accuracy\n",
      "0.9824561403508771 test accuracy\n"
     ]
    }
   ],
   "source": [
    "# Train different AdaBoost models, using grid search and cross validation to find best hyperparameters.\n",
    "ada = sklearn.ensemble.AdaBoostClassifier(random_state=0)\n",
    "param_grid={'n_estimators': est_vals_ada, 'learning_rate' : learn_vals_ada, 'algorithm' : a_vals_ada}\n",
    "gs_ada = sklearn.model_selection.GridSearchCV(ada,param_grid,verbose=1,cv=3).fit(X_trn,y_trn)\n",
    "print(gs_ada.best_estimator_)\n",
    "print(f'{gs_ada.best_estimator_.score(X_trn,y_trn)} train accuracy') \n",
    "print(f'{gs_ada.best_estimator_.score(X_tst,y_tst)} test accuracy')"
   ]
  },
  {
   "cell_type": "markdown",
   "id": "0e2cea23",
   "metadata": {},
   "source": [
    "## Gaussian Naive Bayes Classification"
   ]
  },
  {
   "cell_type": "code",
   "execution_count": null,
   "id": "41766584",
   "metadata": {},
   "outputs": [],
   "source": []
  },
  {
   "cell_type": "code",
   "execution_count": null,
   "id": "920f2cc1",
   "metadata": {},
   "outputs": [],
   "source": []
  },
  {
   "cell_type": "markdown",
   "id": "139f78cc",
   "metadata": {},
   "source": [
    "## Neural Network Classification"
   ]
  },
  {
   "cell_type": "code",
   "execution_count": 40,
   "id": "f6c82c4d",
   "metadata": {},
   "outputs": [],
   "source": [
    "# Test a few different hyperparameters for Neural Networks: hidden_layer_sizes, activation, solver\n",
    "hl_vals = [(),(10,),(50,),(100,),(10,10),(50,50),(100,50),(100,100)]\n",
    "solv_vals = ['sgd','adam']"
   ]
  },
  {
   "cell_type": "code",
   "execution_count": 41,
   "id": "dc883d78",
   "metadata": {},
   "outputs": [
    {
     "name": "stdout",
     "output_type": "stream",
     "text": [
      "Fitting 3 folds for each of 16 candidates, totalling 48 fits\n",
      "MLPClassifier(batch_size=100, hidden_layer_sizes=(), learning_rate_init=0.01,\n",
      "              max_iter=1000, random_state=0)\n",
      "0.9899497487437185 train accuracy\n",
      "0.9473684210526315 test accuracy\n"
     ]
    }
   ],
   "source": [
    "# Train different Neural Network models, using grid search and cross validation to find best hyperparameters.\n",
    "nn = sklearn.neural_network.MLPClassifier(activation='relu',max_iter=1000,batch_size=100,learning_rate_init=0.01,random_state=0)\n",
    "param_grid={'hidden_layer_sizes' : hl_vals, 'solver' : solv_vals}\n",
    "gs_nn = sklearn.model_selection.GridSearchCV(nn,param_grid,verbose=1,cv=3).fit(X_trn,y_trn)\n",
    "print(gs_nn.best_estimator_)\n",
    "print(f'{gs_nn.best_estimator_.score(X_trn,y_trn)} train accuracy') \n",
    "print(f'{gs_nn.best_estimator_.score(X_tst,y_tst)} test accuracy')"
   ]
  },
  {
   "cell_type": "code",
   "execution_count": null,
   "id": "90553482",
   "metadata": {},
   "outputs": [],
   "source": []
  }
 ],
 "metadata": {
  "kernelspec": {
   "display_name": "Python 3",
   "language": "python",
   "name": "python3"
  },
  "language_info": {
   "codemirror_mode": {
    "name": "ipython",
    "version": 3
   },
   "file_extension": ".py",
   "mimetype": "text/x-python",
   "name": "python",
   "nbconvert_exporter": "python",
   "pygments_lexer": "ipython3",
   "version": "3.8.8"
  }
 },
 "nbformat": 4,
 "nbformat_minor": 5
}
