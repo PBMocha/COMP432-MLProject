{
 "cells": [
  {
   "cell_type": "code",
   "execution_count": 1,
   "id": "98520d7b",
   "metadata": {},
   "outputs": [],
   "source": [
    "# Required Imports\n",
    "import numpy as np\n",
    "import sklearn\n",
    "from sklearn.model_selection import train_test_split\n",
    "import pandas as pd\n",
    "\n",
    "\n",
    "# ML Algorithms\n",
    "from sklearn.linear_model import LogisticRegression\n",
    "from sklearn.svm import SVC\n",
    "from sklearn.tree import DecisionTreeClassifier\n",
    "from sklearn.ensemble import RandomForestClassifier\n",
    "from sklearn.neighbors import KNeighborsClassifier\n",
    "from sklearn.ensemble import AdaBoostClassifier\n",
    "from sklearn.naive_bayes import GaussianNB\n",
    "from sklearn.neural_network import MLPClassifier"
   ]
  },
  {
   "cell_type": "code",
   "execution_count": 2,
   "id": "9df39ecb",
   "metadata": {},
   "outputs": [],
   "source": [
    "# Load the data and split into features and targets, X and y\n",
    "df = pd.read_excel(\"./data/default of credit card clients.xls\")\n",
    "data = df.to_numpy()\n",
    "data = data[1:,1:]\n",
    "X = data[:,0:23]\n",
    "y = data[:,23:24].astype(np.int32).reshape(30000,)"
   ]
  },
  {
   "cell_type": "code",
   "execution_count": 3,
   "id": "7b17a9f6",
   "metadata": {},
   "outputs": [],
   "source": [
    "# Split the data\n",
    "X_trn, X_tst, y_trn, y_tst = sklearn.model_selection.train_test_split(X, y, test_size=0.3, random_state=0)"
   ]
  },
  {
   "cell_type": "code",
   "execution_count": 4,
   "id": "ebd08db5",
   "metadata": {},
   "outputs": [],
   "source": [
    "# Scale the data\n",
    "scaler = sklearn.preprocessing.StandardScaler()\n",
    "X_trn = scaler.fit_transform(X_trn)\n",
    "X_tst = scaler.fit_transform(X_tst)"
   ]
  },
  {
   "cell_type": "markdown",
   "id": "632f16f2",
   "metadata": {},
   "source": [
    "## Logistic Regression (for classification)"
   ]
  },
  {
   "cell_type": "code",
   "execution_count": 5,
   "id": "40223b14",
   "metadata": {},
   "outputs": [],
   "source": [
    "# Test a few different hyperparameters for Logistic Regression: C, solver\n",
    "c_vals_lr = [0.0001,0.001,0.01,0.1,1.0,10.0]\n",
    "s_vals_lr = ['newton-cg', 'lbfgs', 'liblinear', 'sag', 'saga']"
   ]
  },
  {
   "cell_type": "code",
   "execution_count": 6,
   "id": "70c0de09",
   "metadata": {},
   "outputs": [
    {
     "name": "stdout",
     "output_type": "stream",
     "text": [
      "Fitting 3 folds for each of 30 candidates, totalling 90 fits\n",
      "LogisticRegression(C=0.0001, max_iter=10000, random_state=0, solver='liblinear')\n",
      "0.8093333333333333 train accuracy\n",
      "0.8107777777777778 test accuracy\n"
     ]
    }
   ],
   "source": [
    "# Train different logistic regression models, using grid search and cross validation to find best hyperparameters.\n",
    "lr = sklearn.linear_model.LogisticRegression(max_iter=10000,random_state=0)\n",
    "param_grid={'C': c_vals_lr, 'solver' : s_vals_lr}\n",
    "gs_lr = sklearn.model_selection.GridSearchCV(lr,param_grid,verbose=1,cv=3).fit(X_trn,y_trn) \n",
    "print(gs_lr.best_estimator_)\n",
    "print(f'{gs_lr.best_estimator_.score(X_trn,y_trn)} train accuracy') \n",
    "print(f'{gs_lr.best_estimator_.score(X_tst,y_tst)} test accuracy')"
   ]
  },
  {
   "cell_type": "markdown",
   "id": "2d9cf5e8",
   "metadata": {},
   "source": [
    "## Support Vector Classification"
   ]
  },
  {
   "cell_type": "code",
   "execution_count": 17,
   "id": "6e8201eb",
   "metadata": {},
   "outputs": [],
   "source": [
    "# Test a few different hyperparameters for SVM: C, gamma\n",
    "c_vals_svm = [0.1,1.0,10.0]\n",
    "g_vals_svm = [0.001,0.01,0.1]"
   ]
  },
  {
   "cell_type": "code",
   "execution_count": 18,
   "id": "cbb7893a",
   "metadata": {},
   "outputs": [
    {
     "name": "stdout",
     "output_type": "stream",
     "text": [
      "Fitting 2 folds for each of 9 candidates, totalling 18 fits\n",
      "SVC(gamma=0.1, random_state=0)\n",
      "0.8348571428571429 train accuracy\n",
      "0.822 test accuracy\n"
     ]
    }
   ],
   "source": [
    "# Train different svm models, using grid search and cross validation to find best hyperparameters.\n",
    "svm = sklearn.svm.SVC(kernel='rbf',random_state=0)\n",
    "param_grid={'C': c_vals_svm, 'gamma' : g_vals_svm}\n",
    "gs_svm = sklearn.model_selection.GridSearchCV(svm,param_grid,verbose=1,cv=2).fit(X_trn,y_trn)\n",
    "print(gs_svm.best_estimator_)\n",
    "print(f'{gs_svm.best_estimator_.score(X_trn,y_trn)} train accuracy') \n",
    "print(f'{gs_svm.best_estimator_.score(X_tst,y_tst)} test accuracy')"
   ]
  },
  {
   "cell_type": "markdown",
   "id": "49385869",
   "metadata": {},
   "source": [
    "## Decision Tree Classification"
   ]
  },
  {
   "cell_type": "code",
   "execution_count": 19,
   "id": "b91a5864",
   "metadata": {},
   "outputs": [],
   "source": [
    "# Test a few different hyperparameters for Decision Tree: criterion, max_depth, min_samples_leaf\n",
    "crit_vals_dt = ['gini', 'entropy']\n",
    "dep_vals_dt = [5, 10, 25, 50]\n",
    "samp_leaf_dt = [10, 25, 50, 100]"
   ]
  },
  {
   "cell_type": "code",
   "execution_count": 20,
   "id": "bbb0cf73",
   "metadata": {},
   "outputs": [
    {
     "name": "stdout",
     "output_type": "stream",
     "text": [
      "Fitting 3 folds for each of 32 candidates, totalling 96 fits\n",
      "DecisionTreeClassifier(max_depth=5, min_samples_leaf=25, random_state=0)\n",
      "0.8226190476190476 train accuracy\n",
      "0.8221111111111111 test accuracy\n"
     ]
    }
   ],
   "source": [
    "# Train different DecisionTree models, using grid search and cross validation to find best hyperparameters.\n",
    "dt = sklearn.tree.DecisionTreeClassifier(random_state=0)\n",
    "param_grid={'criterion': crit_vals_dt, 'max_depth' : dep_vals_dt, 'min_samples_leaf' : samp_leaf_dt}\n",
    "gs_dt = sklearn.model_selection.GridSearchCV(dt,param_grid,verbose=1,cv=3).fit(X_trn,y_trn)\n",
    "print(gs_dt.best_estimator_)\n",
    "print(f'{gs_dt.best_estimator_.score(X_trn,y_trn)} train accuracy') \n",
    "print(f'{gs_dt.best_estimator_.score(X_tst,y_tst)} test accuracy')"
   ]
  },
  {
   "cell_type": "markdown",
   "id": "58d55e69",
   "metadata": {},
   "source": [
    "## Random Forest Classification"
   ]
  },
  {
   "cell_type": "code",
   "execution_count": 21,
   "id": "bd18d3cd",
   "metadata": {},
   "outputs": [],
   "source": [
    "# Test a few different hyperparameters for Random Forest: max_depth, n_estimators\n",
    "dep_vals_rf = [5, 10, 25, 50]\n",
    "est_vals_rf = [25,50,100,250]"
   ]
  },
  {
   "cell_type": "code",
   "execution_count": 22,
   "id": "51dabd73",
   "metadata": {},
   "outputs": [
    {
     "name": "stdout",
     "output_type": "stream",
     "text": [
      "Fitting 3 folds for each of 16 candidates, totalling 48 fits\n",
      "RandomForestClassifier(max_depth=10, random_state=0)\n",
      "0.857904761904762 train accuracy\n",
      "0.8237777777777778 test accuracy\n"
     ]
    }
   ],
   "source": [
    "# Train different RandomForest models, using grid search and cross validation to find best hyperparameters.\n",
    "rf = sklearn.ensemble.RandomForestClassifier(random_state=0)\n",
    "param_grid={'max_depth': dep_vals_rf, 'n_estimators' : est_vals_rf}\n",
    "gs_rf = sklearn.model_selection.GridSearchCV(rf,param_grid,verbose=1,cv=3).fit(X_trn,y_trn)\n",
    "print(gs_rf.best_estimator_)\n",
    "print(f'{gs_rf.best_estimator_.score(X_trn,y_trn)} train accuracy') \n",
    "print(f'{gs_rf.best_estimator_.score(X_tst,y_tst)} test accuracy')"
   ]
  },
  {
   "cell_type": "markdown",
   "id": "77ee7757",
   "metadata": {},
   "source": [
    "## K-nearest Neighbours Classification"
   ]
  },
  {
   "cell_type": "code",
   "execution_count": 24,
   "id": "b01f6562",
   "metadata": {},
   "outputs": [],
   "source": [
    "# Test a few different hyperparameters for K-nearest neighbours: n_neighbors, weights, algorithm\n",
    "n_vals_k = [1,5,9,13,17,21,25,29]\n",
    "w_vals_k = ['uniform', 'distance']\n",
    "m_vals_k = ['euclidean', 'manhattan', 'minkowski']"
   ]
  },
  {
   "cell_type": "code",
   "execution_count": 25,
   "id": "c92c4dc6",
   "metadata": {},
   "outputs": [
    {
     "name": "stdout",
     "output_type": "stream",
     "text": [
      "Fitting 3 folds for each of 48 candidates, totalling 144 fits\n",
      "KNeighborsClassifier(metric='euclidean', n_neighbors=21, weights='distance')\n",
      "0.9998571428571429 train accuracy\n",
      "0.8094444444444444 test accuracy\n"
     ]
    }
   ],
   "source": [
    "# Train different K-neighbors models, using grid search and cross validation to find best hyperparameters.\n",
    "kn = sklearn.neighbors.KNeighborsClassifier()\n",
    "param_grid={'n_neighbors': n_vals_k, 'weights' : w_vals_k, 'metric' : m_vals_k}\n",
    "gs_kn = sklearn.model_selection.GridSearchCV(kn,param_grid,verbose=1,cv=3).fit(X_trn,y_trn)\n",
    "print(gs_kn.best_estimator_)\n",
    "print(f'{gs_kn.best_estimator_.score(X_trn,y_trn)} train accuracy') \n",
    "print(f'{gs_kn.best_estimator_.score(X_tst,y_tst)} test accuracy')"
   ]
  },
  {
   "cell_type": "markdown",
   "id": "22a0456c",
   "metadata": {},
   "source": [
    "## AdaBoost Classification "
   ]
  },
  {
   "cell_type": "code",
   "execution_count": 26,
   "id": "711d95a1",
   "metadata": {},
   "outputs": [],
   "source": [
    "# Test a few different hyperparameters for AdaBoost: n_estimators, learning_rate, algorithm\n",
    "est_vals_ada = [1,5,10,25,50,80,85,100]\n",
    "learn_vals_ada = [0.1, 0.5, 1.0, 1.5, 2.0]\n",
    "a_vals_ada = ['SAMME', 'SAMME.R',]"
   ]
  },
  {
   "cell_type": "code",
   "execution_count": 27,
   "id": "a9a08298",
   "metadata": {},
   "outputs": [
    {
     "name": "stdout",
     "output_type": "stream",
     "text": [
      "Fitting 3 folds for each of 80 candidates, totalling 240 fits\n",
      "AdaBoostClassifier(algorithm='SAMME', n_estimators=25, random_state=0)\n",
      "0.8166190476190476 train accuracy\n",
      "0.8247777777777778 test accuracy\n"
     ]
    }
   ],
   "source": [
    "# Train different AdaBoost models, using grid search and cross validation to find best hyperparameters.\n",
    "ada = sklearn.ensemble.AdaBoostClassifier(random_state=0)\n",
    "param_grid={'n_estimators': est_vals_ada, 'learning_rate' : learn_vals_ada, 'algorithm' : a_vals_ada}\n",
    "gs_ada = sklearn.model_selection.GridSearchCV(ada,param_grid,verbose=1,cv=3).fit(X_trn,y_trn)\n",
    "print(gs_ada.best_estimator_)\n",
    "print(f'{gs_ada.best_estimator_.score(X_trn,y_trn)} train accuracy') \n",
    "print(f'{gs_ada.best_estimator_.score(X_tst,y_tst)} test accuracy')"
   ]
  },
  {
   "cell_type": "markdown",
   "id": "d854809e",
   "metadata": {},
   "source": [
    "## Gaussian Naive Bayes Classification"
   ]
  },
  {
   "cell_type": "code",
   "execution_count": 28,
   "id": "e8377c55",
   "metadata": {},
   "outputs": [],
   "source": [
    "# TODO"
   ]
  },
  {
   "cell_type": "markdown",
   "id": "be684a7d",
   "metadata": {},
   "source": [
    "## Neural Network Classification"
   ]
  },
  {
   "cell_type": "code",
   "execution_count": 29,
   "id": "e7852e81",
   "metadata": {},
   "outputs": [],
   "source": [
    "# Test a few different hyperparameters for Neural Networks: hidden_layer_sizes, activation, solver\n",
    "hl_vals = [(),(10,),(50,),(100,),(10,10),(50,50),(100,50),(100,100)]\n",
    "solv_vals = ['sgd','adam']"
   ]
  },
  {
   "cell_type": "code",
   "execution_count": 30,
   "id": "348d1ece",
   "metadata": {},
   "outputs": [
    {
     "name": "stdout",
     "output_type": "stream",
     "text": [
      "Fitting 3 folds for each of 16 candidates, totalling 48 fits\n",
      "MLPClassifier(batch_size=100, hidden_layer_sizes=(10,), learning_rate_init=0.01,\n",
      "              max_iter=1000, random_state=0, solver='sgd')\n",
      "0.8206190476190476 train accuracy\n",
      "0.8211111111111111 test accuracy\n"
     ]
    }
   ],
   "source": [
    "# Train different Neural Network models, using grid search and cross validation to find best hyperparameters.\n",
    "nn = sklearn.neural_network.MLPClassifier(activation='relu',max_iter=1000,batch_size=100,learning_rate_init=0.01,random_state=0)\n",
    "param_grid={'hidden_layer_sizes' : hl_vals, 'solver' : solv_vals}\n",
    "gs_nn = sklearn.model_selection.GridSearchCV(nn,param_grid,verbose=1,cv=3).fit(X_trn,y_trn)\n",
    "print(gs_nn.best_estimator_)\n",
    "print(f'{gs_nn.best_estimator_.score(X_trn,y_trn)} train accuracy') \n",
    "print(f'{gs_nn.best_estimator_.score(X_tst,y_tst)} test accuracy')"
   ]
  },
  {
   "cell_type": "code",
   "execution_count": null,
   "id": "1b33f65e",
   "metadata": {},
   "outputs": [],
   "source": []
  }
 ],
 "metadata": {
  "kernelspec": {
   "display_name": "Python 3",
   "language": "python",
   "name": "python3"
  },
  "language_info": {
   "codemirror_mode": {
    "name": "ipython",
    "version": 3
   },
   "file_extension": ".py",
   "mimetype": "text/x-python",
   "name": "python",
   "nbconvert_exporter": "python",
   "pygments_lexer": "ipython3",
   "version": "3.8.8"
  }
 },
 "nbformat": 4,
 "nbformat_minor": 5
}
