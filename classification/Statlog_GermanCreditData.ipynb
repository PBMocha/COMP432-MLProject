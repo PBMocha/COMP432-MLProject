{
 "cells": [
  {
   "cell_type": "code",
   "execution_count": 1,
   "id": "aeeb722f",
   "metadata": {},
   "outputs": [],
   "source": [
    "# Required Imports\n",
    "import numpy as np\n",
    "import sklearn\n",
    "from sklearn.model_selection import train_test_split\n",
    "\n",
    "\n",
    "# ML Algorithms\n",
    "from sklearn.linear_model import LogisticRegression\n",
    "from sklearn.svm import SVC\n",
    "from sklearn.tree import DecisionTreeClassifier\n",
    "from sklearn.ensemble import RandomForestClassifier\n",
    "from sklearn.neighbors import KNeighborsClassifier\n",
    "from sklearn.ensemble import AdaBoostClassifier\n",
    "from sklearn.naive_bayes import GaussianNB\n",
    "from sklearn.neural_network import MLPClassifier"
   ]
  },
  {
   "cell_type": "code",
   "execution_count": 27,
   "id": "94936438",
   "metadata": {},
   "outputs": [],
   "source": [
    "# Load the data and split into features and targets, X and y\n",
    "cols = np.arange(4,25)\n",
    "data = np.loadtxt(\"./data/german.data-numeric\",dtype='float64') \n",
    "X = data[:,0:24]\n",
    "y = data[:,24:25].astype(np.int32).reshape(1000,)\n",
    "\n",
    "# Change value of 'bad credit' from 2 to 0, leave 'good credit' as value 1\n",
    "for i in range(len(y)):\n",
    "    if y[i]==2:\n",
    "        y[i]=0"
   ]
  },
  {
   "cell_type": "code",
   "execution_count": 29,
   "id": "bbd4d87a",
   "metadata": {},
   "outputs": [],
   "source": [
    "# Split the data\n",
    "X_trn, X_tst, y_trn, y_tst = sklearn.model_selection.train_test_split(X, y, test_size=0.3, random_state=0)"
   ]
  },
  {
   "cell_type": "code",
   "execution_count": 30,
   "id": "09bddb3d",
   "metadata": {},
   "outputs": [],
   "source": [
    "# Scale the data\n",
    "scaler = sklearn.preprocessing.StandardScaler()\n",
    "X_trn = scaler.fit_transform(X_trn)\n",
    "X_tst = scaler.fit_transform(X_tst)"
   ]
  },
  {
   "cell_type": "markdown",
   "id": "e9782c5a",
   "metadata": {},
   "source": [
    "## Logistic Regression (for classification)"
   ]
  },
  {
   "cell_type": "code",
   "execution_count": 31,
   "id": "a1752c66",
   "metadata": {},
   "outputs": [],
   "source": [
    "# Test a few different hyperparameters for Logistic Regression: C, solver\n",
    "c_vals_lr = [0.0001,0.001,0.01,0.1,1.0,10.0]\n",
    "s_vals_lr = ['newton-cg', 'lbfgs', 'liblinear', 'sag', 'saga']"
   ]
  },
  {
   "cell_type": "code",
   "execution_count": 32,
   "id": "1fa9f1e7",
   "metadata": {},
   "outputs": [
    {
     "name": "stdout",
     "output_type": "stream",
     "text": [
      "Fitting 3 folds for each of 30 candidates, totalling 90 fits\n",
      "LogisticRegression(C=0.01, max_iter=10000, random_state=0, solver='liblinear')\n",
      "0.79 train accuracy\n",
      "0.7733333333333333 test accuracy\n"
     ]
    }
   ],
   "source": [
    "# Train different logistic regression models, using grid search and cross validation to find best hyperparameters.\n",
    "lr = sklearn.linear_model.LogisticRegression(max_iter=10000,random_state=0)\n",
    "param_grid={'C': c_vals_lr, 'solver' : s_vals_lr}\n",
    "gs_lr = sklearn.model_selection.GridSearchCV(lr,param_grid,verbose=1,cv=3).fit(X_trn,y_trn) \n",
    "print(gs_lr.best_estimator_)\n",
    "print(f'{gs_lr.best_estimator_.score(X_trn,y_trn)} train accuracy') \n",
    "print(f'{gs_lr.best_estimator_.score(X_tst,y_tst)} test accuracy')"
   ]
  },
  {
   "cell_type": "markdown",
   "id": "1681b7d5",
   "metadata": {},
   "source": [
    "## Support Vector Classification"
   ]
  },
  {
   "cell_type": "code",
   "execution_count": 33,
   "id": "bb8572f9",
   "metadata": {},
   "outputs": [],
   "source": [
    "# Test a few different hyperparameters for SVM: C, gamma\n",
    "c_vals_svm = [0.01,0.1,1.0,10.0,100.0,1000.0]\n",
    "g_vals_svm = [0.001,0.01,0.1,1.0,10.0]"
   ]
  },
  {
   "cell_type": "code",
   "execution_count": 34,
   "id": "03a0a984",
   "metadata": {},
   "outputs": [
    {
     "name": "stdout",
     "output_type": "stream",
     "text": [
      "Fitting 3 folds for each of 30 candidates, totalling 90 fits\n",
      "SVC(C=100.0, gamma=0.001, random_state=0)\n",
      "0.8071428571428572 train accuracy\n",
      "0.7766666666666666 test accuracy\n"
     ]
    }
   ],
   "source": [
    "# Train different svm models, using grid search and cross validation to find best hyperparameters.\n",
    "svm = sklearn.svm.SVC(kernel='rbf',random_state=0)\n",
    "param_grid={'C': c_vals_svm, 'gamma' : g_vals_svm}\n",
    "gs_svm = sklearn.model_selection.GridSearchCV(svm,param_grid,verbose=1,cv=3).fit(X_trn,y_trn)\n",
    "print(gs_svm.best_estimator_)\n",
    "print(f'{gs_svm.best_estimator_.score(X_trn,y_trn)} train accuracy') \n",
    "print(f'{gs_svm.best_estimator_.score(X_tst,y_tst)} test accuracy')"
   ]
  },
  {
   "cell_type": "markdown",
   "id": "984491ba",
   "metadata": {},
   "source": [
    "## Decision Tree Classification"
   ]
  },
  {
   "cell_type": "code",
   "execution_count": 35,
   "id": "c09da9ff",
   "metadata": {},
   "outputs": [],
   "source": [
    "# Test a few different hyperparameters for Decision Tree: criterion, max_depth, min_samples_leaf\n",
    "crit_vals_dt = ['gini', 'entropy']\n",
    "dep_vals_dt = [5, 10, 25, 50, 100]\n",
    "samp_leaf_dt = [5, 10, 25, 50, 100]"
   ]
  },
  {
   "cell_type": "code",
   "execution_count": 36,
   "id": "344fce56",
   "metadata": {},
   "outputs": [
    {
     "name": "stdout",
     "output_type": "stream",
     "text": [
      "Fitting 3 folds for each of 50 candidates, totalling 150 fits\n",
      "DecisionTreeClassifier(criterion='entropy', max_depth=25, min_samples_leaf=5,\n",
      "                       random_state=0)\n",
      "0.8828571428571429 train accuracy\n",
      "0.71 test accuracy\n"
     ]
    }
   ],
   "source": [
    "# Train different DecisionTree models, using grid search and cross validation to find best hyperparameters.\n",
    "dt = sklearn.tree.DecisionTreeClassifier(random_state=0)\n",
    "param_grid={'criterion': crit_vals_dt, 'max_depth' : dep_vals_dt, 'min_samples_leaf' : samp_leaf_dt}\n",
    "gs_dt = sklearn.model_selection.GridSearchCV(dt,param_grid,verbose=1,cv=3).fit(X_trn,y_trn)\n",
    "print(gs_dt.best_estimator_)\n",
    "print(f'{gs_dt.best_estimator_.score(X_trn,y_trn)} train accuracy') \n",
    "print(f'{gs_dt.best_estimator_.score(X_tst,y_tst)} test accuracy')"
   ]
  },
  {
   "cell_type": "markdown",
   "id": "5d740433",
   "metadata": {},
   "source": [
    "## Random Forest Classification"
   ]
  },
  {
   "cell_type": "code",
   "execution_count": 37,
   "id": "857ed47e",
   "metadata": {},
   "outputs": [],
   "source": [
    "# Test a few different hyperparameters for Random Forest: max_depth, n_estimators\n",
    "dep_vals_rf = [5, 10, 25, 50, 100]\n",
    "est_vals_rf = [1,5,25,50,100,250,500]"
   ]
  },
  {
   "cell_type": "code",
   "execution_count": 38,
   "id": "1b44efec",
   "metadata": {},
   "outputs": [
    {
     "name": "stdout",
     "output_type": "stream",
     "text": [
      "Fitting 3 folds for each of 35 candidates, totalling 105 fits\n",
      "RandomForestClassifier(max_depth=10, random_state=0)\n",
      "0.9771428571428571 train accuracy\n",
      "0.7533333333333333 test accuracy\n"
     ]
    }
   ],
   "source": [
    "# Train different RandomForest models, using grid search and cross validation to find best hyperparameters.\n",
    "rf = sklearn.ensemble.RandomForestClassifier(random_state=0)\n",
    "param_grid={'max_depth': dep_vals_rf, 'n_estimators' : est_vals_rf}\n",
    "gs_rf = sklearn.model_selection.GridSearchCV(rf,param_grid,verbose=1,cv=3).fit(X_trn,y_trn)\n",
    "print(gs_rf.best_estimator_)\n",
    "print(f'{gs_rf.best_estimator_.score(X_trn,y_trn)} train accuracy') \n",
    "print(f'{gs_rf.best_estimator_.score(X_tst,y_tst)} test accuracy')"
   ]
  },
  {
   "cell_type": "markdown",
   "id": "02f91036",
   "metadata": {},
   "source": [
    "## K-nearest Neighbours Classification"
   ]
  },
  {
   "cell_type": "code",
   "execution_count": 39,
   "id": "e0aa9aac",
   "metadata": {},
   "outputs": [],
   "source": [
    "# Test a few different hyperparameters for K-nearest neighbours: n_neighbors, weights, algorithm\n",
    "n_vals_k = [1, 3, 5, 7, 9, 11, 13, 15, 17, 19, 21, 23, 25, 27, 29]\n",
    "w_vals_k = ['uniform', 'distance']\n",
    "m_vals_k = ['euclidean', 'manhattan', 'minkowski']"
   ]
  },
  {
   "cell_type": "code",
   "execution_count": 40,
   "id": "ca78ed1e",
   "metadata": {},
   "outputs": [
    {
     "name": "stdout",
     "output_type": "stream",
     "text": [
      "Fitting 3 folds for each of 90 candidates, totalling 270 fits\n",
      "KNeighborsClassifier(metric='euclidean', n_neighbors=17)\n",
      "0.77 train accuracy\n",
      "0.73 test accuracy\n"
     ]
    }
   ],
   "source": [
    "# Train different K-neighbors models, using grid search and cross validation to find best hyperparameters.\n",
    "kn = sklearn.neighbors.KNeighborsClassifier()\n",
    "param_grid={'n_neighbors': n_vals_k, 'weights' : w_vals_k, 'metric' : m_vals_k}\n",
    "gs_kn = sklearn.model_selection.GridSearchCV(kn,param_grid,verbose=1,cv=3).fit(X_trn,y_trn)\n",
    "print(gs_kn.best_estimator_)\n",
    "print(f'{gs_kn.best_estimator_.score(X_trn,y_trn)} train accuracy') \n",
    "print(f'{gs_kn.best_estimator_.score(X_tst,y_tst)} test accuracy')"
   ]
  },
  {
   "cell_type": "markdown",
   "id": "e476c706",
   "metadata": {},
   "source": [
    "## AdaBoost Classification"
   ]
  },
  {
   "cell_type": "code",
   "execution_count": 41,
   "id": "a602bca5",
   "metadata": {},
   "outputs": [],
   "source": [
    "# Test a few different hyperparameters for AdaBoost: n_estimators, learning_rate, algorithm\n",
    "est_vals_ada = [1,5,10,25,50,80,85,100]\n",
    "learn_vals_ada = [0.1, 0.5, 1.0, 1.5, 2.0]\n",
    "a_vals_ada = ['SAMME', 'SAMME.R',]"
   ]
  },
  {
   "cell_type": "code",
   "execution_count": 42,
   "id": "621a3792",
   "metadata": {},
   "outputs": [
    {
     "name": "stdout",
     "output_type": "stream",
     "text": [
      "Fitting 3 folds for each of 80 candidates, totalling 240 fits\n",
      "AdaBoostClassifier(algorithm='SAMME', learning_rate=0.5, random_state=0)\n",
      "0.7671428571428571 train accuracy\n",
      "0.7566666666666667 test accuracy\n"
     ]
    }
   ],
   "source": [
    "# Train different AdaBoost models, using grid search and cross validation to find best hyperparameters.\n",
    "ada = sklearn.ensemble.AdaBoostClassifier(random_state=0)\n",
    "param_grid={'n_estimators': est_vals_ada, 'learning_rate' : learn_vals_ada, 'algorithm' : a_vals_ada}\n",
    "gs_ada = sklearn.model_selection.GridSearchCV(ada,param_grid,verbose=1,cv=3).fit(X_trn,y_trn)\n",
    "print(gs_ada.best_estimator_)\n",
    "print(f'{gs_ada.best_estimator_.score(X_trn,y_trn)} train accuracy') \n",
    "print(f'{gs_ada.best_estimator_.score(X_tst,y_tst)} test accuracy')"
   ]
  },
  {
   "cell_type": "markdown",
   "id": "ada1b94c",
   "metadata": {},
   "source": [
    "## Gaussian Naive Bayes Classification"
   ]
  },
  {
   "cell_type": "code",
   "execution_count": 43,
   "id": "c2904ac4",
   "metadata": {},
   "outputs": [],
   "source": [
    "#TODO"
   ]
  },
  {
   "cell_type": "markdown",
   "id": "02196d76",
   "metadata": {},
   "source": [
    "## Neural Network Classification"
   ]
  },
  {
   "cell_type": "code",
   "execution_count": 44,
   "id": "c22b5630",
   "metadata": {},
   "outputs": [],
   "source": [
    "# Test a few different hyperparameters for Neural Networks: hidden_layer_sizes, activation, solver\n",
    "hl_vals = [(),(10,),(50,),(100,),(10,10),(50,50),(100,50),(100,100)]\n",
    "solv_vals = ['sgd','adam']"
   ]
  },
  {
   "cell_type": "code",
   "execution_count": 47,
   "id": "a0c953ad",
   "metadata": {},
   "outputs": [
    {
     "name": "stdout",
     "output_type": "stream",
     "text": [
      "Fitting 3 folds for each of 16 candidates, totalling 48 fits\n",
      "MLPClassifier(batch_size=100, hidden_layer_sizes=(), learning_rate_init=0.01,\n",
      "              max_iter=2000, random_state=0, solver='sgd')\n",
      "0.7914285714285715 train accuracy\n",
      "0.7766666666666666 test accuracy\n"
     ]
    }
   ],
   "source": [
    "# Train different Neural Network models, using grid search and cross validation to find best hyperparameters.\n",
    "nn = sklearn.neural_network.MLPClassifier(activation='relu',max_iter=2000,batch_size=100,learning_rate_init=0.01,random_state=0)\n",
    "param_grid={'hidden_layer_sizes' : hl_vals, 'solver' : solv_vals}\n",
    "gs_nn = sklearn.model_selection.GridSearchCV(nn,param_grid,verbose=1,cv=3).fit(X_trn,y_trn)\n",
    "print(gs_nn.best_estimator_)\n",
    "print(f'{gs_nn.best_estimator_.score(X_trn,y_trn)} train accuracy') \n",
    "print(f'{gs_nn.best_estimator_.score(X_tst,y_tst)} test accuracy')"
   ]
  },
  {
   "cell_type": "code",
   "execution_count": null,
   "id": "68888fe7",
   "metadata": {},
   "outputs": [],
   "source": []
  }
 ],
 "metadata": {
  "kernelspec": {
   "display_name": "Python 3",
   "language": "python",
   "name": "python3"
  },
  "language_info": {
   "codemirror_mode": {
    "name": "ipython",
    "version": 3
   },
   "file_extension": ".py",
   "mimetype": "text/x-python",
   "name": "python",
   "nbconvert_exporter": "python",
   "pygments_lexer": "ipython3",
   "version": "3.8.8"
  }
 },
 "nbformat": 4,
 "nbformat_minor": 5
}
