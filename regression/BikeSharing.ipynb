{
 "cells": [
  {
   "cell_type": "code",
   "execution_count": 1,
   "metadata": {},
   "outputs": [],
   "source": [
    "# Required Imports\n",
    "import numpy as np\n",
    "import os\n",
    "import sklearn\n",
    "import pandas as pd\n",
    "from sklearn.model_selection import train_test_split\n",
    "\n",
    "# ML Algorithms\n",
    "from sklearn.linear_model import LinearRegression\n",
    "from sklearn.svm import SVR\n",
    "from sklearn.tree import DecisionTreeRegressor\n",
    "from sklearn.ensemble import RandomForestRegressor\n",
    "from sklearn.neighbors import KNeighborsRegressor\n",
    "from sklearn.ensemble import AdaBoostRegressor\n",
    "from sklearn.gaussian_process import GaussianProcessRegressor\n",
    "from sklearn.neural_network import MLPRegressor\n",
    "from PipelineFunctions import *"
   ]
  },
  {
   "cell_type": "code",
   "execution_count": 2,
   "metadata": {},
   "outputs": [],
   "source": [
    "# Load the data and split into features and targets, X and y\n",
    "\n",
    "df_bike = pd.read_csv('./data/hour.csv', sep=',')\n",
    "# Convert date time to integer\n",
    "df_bike['dteday'] = pd.to_datetime(df_bike['dteday']).apply(lambda x : x.toordinal())\n",
    "\n",
    "data = df_bike.to_numpy()\n",
    "X = data[:,:-1]\n",
    "y = data[:,-1]"
   ]
  },
  {
   "cell_type": "code",
   "execution_count": 3,
   "metadata": {},
   "outputs": [],
   "source": [
    "# Split the data\n",
    "X_trn, X_tst, y_trn, y_tst = sklearn.model_selection.train_test_split(X, y, test_size=0.3, random_state=0)"
   ]
  },
  {
   "cell_type": "code",
   "execution_count": 4,
   "metadata": {},
   "outputs": [],
   "source": [
    "# Scale the data\n",
    "scaler = sklearn.preprocessing.StandardScaler()\n",
    "X_trn = scaler.fit_transform(X_trn)\n",
    "X_tst = scaler.fit_transform(X_tst)"
   ]
  },
  {
   "cell_type": "markdown",
   "metadata": {},
   "source": [
    "## Linear Regression"
   ]
  },
  {
   "cell_type": "code",
   "execution_count": 5,
   "metadata": {},
   "outputs": [
    {
     "name": "stdout",
     "output_type": "stream",
     "text": [
      "Dummy model: LinearRegression()\n",
      "With 100.0% train accuracy\n",
      "With 99.996% test accuracy\n",
      "Fitting 3 folds for each of 12 candidates, totalling 36 fits\n",
      "Best estimator: LinearRegression(n_jobs=0.0001)\n",
      "With 100.0% train accuracy\n",
      "With 99.996% test accuracy\n"
     ]
    },
    {
     "name": "stderr",
     "output_type": "stream",
     "text": [
      "[Parallel(n_jobs=1)]: Using backend SequentialBackend with 1 concurrent workers.\n",
      "[Parallel(n_jobs=1)]: Done  36 out of  36 | elapsed:    0.0s finished\n"
     ]
    },
    {
     "data": {
      "image/png": "[encoded data removed]",
      "text/plain": [
       "<Figure size 1008x288 with 4 Axes>"
      ]
     },
     "metadata": {
      "needs_background": "light"
     },
     "output_type": "display_data"
    }
   ],
   "source": [
    "# Test a few different hyperparameters for Linear Regression: n_jobs, fit_intercept\n",
    "n_jobs_vals = [0.0001, 0.001, 0.01, 0.1, 1, 10]\n",
    "intercept_vals = [True, False]\n",
    "param_grid_lr ={'n_jobs': n_jobs_vals, 'fit_intercept':intercept_vals}\n",
    "\n",
    "# Train a dummy Linear Regression model with default values\n",
    "dummy_lr = train_dummy_model(X_trn, y_trn, X_tst, y_tst, sklearn.linear_model.LinearRegression)\n",
    "\n",
    "# Train different Linear regression models, using grid search and cross validation to find best hyperparameters.\n",
    "gs_lr = grid_search(X_trn, y_trn, X_tst, y_tst, sklearn.linear_model.LinearRegression,param_grid_lr)\n",
    "\n",
    "# Plot heatmap of the gridsearch\n",
    "plot_gridsearch_2(gs_lr, n_jobs_vals, intercept_vals, 'n_jobs', 'fit_intercept')"
   ]
  },
  {
   "cell_type": "markdown",
   "metadata": {},
   "source": [
    "## Support Vector Regression"
   ]
  },
  {
   "cell_type": "code",
   "execution_count": null,
   "metadata": {},
   "outputs": [
    {
     "name": "stdout",
     "output_type": "stream",
     "text": [
      "Dummy model: SVR()\n",
      "With 89.983% train accuracy\n",
      "With 89.916% test accuracy\n",
      "Fitting 3 folds for each of 30 candidates, totalling 90 fits\n"
     ]
    },
    {
     "name": "stderr",
     "output_type": "stream",
     "text": [
      "[Parallel(n_jobs=1)]: Using backend SequentialBackend with 1 concurrent workers.\n"
     ]
    }
   ],
   "source": [
    "# Test a few different hyperparameters for SVM: C, gamma\n",
    "c_vals_svm = [0.01,0.1,1.0,10.0,100.0,1000.0]\n",
    "g_vals_svm = [0.001,0.01,0.1,1.0,10.0]\n",
    "param_grid_svm = {'C': c_vals_svm, 'gamma' : g_vals_svm}\n",
    "\n",
    "# Train a dummy SVM model with default values\n",
    "dummy_svm = train_dummy_model(X_trn, y_trn, X_tst, y_tst, sklearn.svm.SVR)\n",
    "\n",
    "# Train different svm models, using grid search and cross validation to find best hyperparameters.\n",
    "gs_svm = grid_search(X_trn, y_trn, X_tst, y_tst, sklearn.svm.SVR,param_grid_svm)\n",
    "\n",
    "# Plot heatmap of the gridsearch\n",
    "plot_gridsearch_2(gs_svm, c_vals_svm, g_vals_svm, 'C', 'gamma')"
   ]
  },
  {
   "cell_type": "markdown",
   "metadata": {},
   "source": [
    "## Decision Tree Regression"
   ]
  },
  {
   "cell_type": "code",
   "execution_count": null,
   "metadata": {},
   "outputs": [],
   "source": [
    "# Test a few different hyperparameters for Decision Tree: max_depth, min_samples_leaf\n",
    "dep_vals_dt = [5, 10, 25, 50, 100]\n",
    "samp_leaf_dt = [5, 10, 25, 50, 100]\n",
    "param_grid_dt = {'max_depth' : dep_vals_dt, 'min_samples_leaf' : samp_leaf_dt}\n",
    "\n",
    "# Train a dummy Decision Tree model with default values\n",
    "dummy_dt = train_dummy_model(X_trn, y_trn, X_tst, y_tst, sklearn.tree.DecisionTreeRegressor)\n",
    "\n",
    "# Train different decision tree  models, using grid search and cross validation to find best hyperparameters.\n",
    "gs_dt = grid_search(X_trn, y_trn, X_tst, y_tst, sklearn.tree.DecisionTreeRegressor,param_grid_dt,random_state=0)\n",
    "\n",
    "\n",
    "# Plot heatmap of the gridsearch\n",
    "plot_gridsearch_2(gs_dt, dep_vals_dt, samp_leaf_dt, 'max_depth', 'min_samples_leaf')\n"
   ]
  },
  {
   "cell_type": "markdown",
   "metadata": {},
   "source": [
    "## Random Forest Regression"
   ]
  },
  {
   "cell_type": "code",
   "execution_count": null,
   "metadata": {},
   "outputs": [],
   "source": [
    "# Test a few different hyperparameters for Random Forest: max_depth, n_estimators\n",
    "dep_vals_rf = [10,25,50, 100,250,500,1000]\n",
    "est_vals_rf = [1,5,25,50,100,250,500,1000]\n",
    "param_grid_rf = {'max_depth': dep_vals_rf, 'n_estimators' : est_vals_rf}\n",
    "\n",
    "# Train a dummy Random Forest model with default values\n",
    "dummy_rf = train_dummy_model(X_trn, y_trn, X_tst, y_tst, sklearn.ensemble.RandomForestRegressor)\n",
    "\n",
    "# Train different random forest models, using grid search and cross validation to find best hyperparameters.\n",
    "gs_rf = grid_search(X_trn, y_trn, X_tst, y_tst, sklearn.ensemble.RandomForestRegressor,param_grid_rf,random_state=0)\n",
    "\n",
    "# Plot heatmap of the gridsearch\n",
    "plot_gridsearch_2(gs_rf, dep_vals_rf, est_vals_rf, 'max_depth', 'n_estimators')"
   ]
  },
  {
   "cell_type": "markdown",
   "metadata": {},
   "source": [
    "## K-nearest Neighbours Regression"
   ]
  },
  {
   "cell_type": "code",
   "execution_count": null,
   "metadata": {},
   "outputs": [],
   "source": [
    "# Test a few different hyperparameters for K-nearest neighbours: n_neighbors, algorithm\n",
    "n_vals_k = [1, 3, 5, 7, 9, 11, 13, 15, 17, 19, 21, 23, 25, 27, 29]\n",
    "m_vals_k = ['euclidean', 'manhattan', 'minkowski']\n",
    "param_grid_knn = {'n_neighbors': n_vals_k, 'metric' : m_vals_k}\n",
    "\n",
    "# Train a dummy KNN model with default values\n",
    "dummy_knn = train_dummy_model(X_trn, y_trn, X_tst, y_tst, sklearn.neighbors.KNeighborsRegressor)\n",
    "\n",
    "# Train different KNN models, using grid search and cross validation to find best hyperparameters.\n",
    "gs_knn = grid_search(X_trn, y_trn, X_tst, y_tst, sklearn.neighbors.KNeighborsRegressor,param_grid_knn)\n",
    "\n",
    "# Plot heatmap of the gridsearch\n",
    "plot_gridsearch_2(gs_knn, n_vals_k, m_vals_k, 'n_neighbors', 'algorithm')"
   ]
  },
  {
   "cell_type": "markdown",
   "metadata": {},
   "source": [
    "## AdaBoost Regression"
   ]
  },
  {
   "cell_type": "code",
   "execution_count": null,
   "metadata": {},
   "outputs": [],
   "source": [
    "# Test a few different hyperparameters for AdaBoost: n_estimators, learning_rate\n",
    "est_vals_ada = [1,5,10,25,50,80,85,100]\n",
    "learn_vals_ada = [0.1, 0.5, 1.0, 1.5, 2.0]\n",
    "param_grid_ada = {'n_estimators': est_vals_ada, 'learning_rate' : learn_vals_ada}\n",
    "\n",
    "# Train a dummy AdaBoost model with default values\n",
    "dummy_ada = train_dummy_model(X_trn, y_trn, X_tst, y_tst, sklearn.ensemble.AdaBoostRegressor)\n",
    "\n",
    "# Train different AdaBoost models, using grid search and cross validation to find best hyperparameters.\n",
    "gs_ada = grid_search(X_trn, y_trn, X_tst, y_tst, sklearn.ensemble.AdaBoostRegressor,param_grid_ada, random_state=0)\n",
    "\n",
    "# Plot heatmap of the gridsearch\n",
    "plot_gridsearch_2(gs_ada, est_vals_ada, learn_vals_ada, 'n_estimators', 'learning_rate')"
   ]
  },
  {
   "cell_type": "markdown",
   "metadata": {},
   "source": [
    "## Gaussian process regression"
   ]
  },
  {
   "cell_type": "code",
   "execution_count": null,
   "metadata": {},
   "outputs": [],
   "source": [
    "# Test a few different hyperparameters for Gaussian process regression: alpha\n",
    "alpha_gpr = [0.05, 0.1, 0.2, 0.3]\n",
    "param_grid_gnb = {'alpha' : alpha_gpr}\n",
    "\n",
    "# Train a dummy Gaussian process regression model with default values\n",
    "dummy_gpr = train_dummy_model(X_trn, y_trn, X_tst, y_tst, sklearn.gaussian_process.GaussianProcessRegressor)\n",
    "\n",
    "# Train different Gaussian process regression models, using grid search and cross validation to find best hyperparameters.\n",
    "gs_gpr = grid_search(X_trn, y_trn, X_tst, y_tst, sklearn.gaussian_process.GaussianProcessRegressor,param_grid_gnb)\n",
    "\n",
    "# Plot heatmap of the gridsearch\n",
    "plot_gridsearch_1(gs_gpr, alpha_gpr, 'alpha')"
   ]
  },
  {
   "cell_type": "markdown",
   "metadata": {},
   "source": [
    "## Neural network regression"
   ]
  },
  {
   "cell_type": "code",
   "execution_count": null,
   "metadata": {},
   "outputs": [],
   "source": [
    "# Test a few different hyperparameters for Neural Network Regression: hidden_layer_sizes, solver\n",
    "hl_vals = [(),(10,),(50,),(100,),(10,10),(50,50),(100,50),(100,100)]\n",
    "solv_vals = ['sgd','adam']\n",
    "param_grid_nnr = {'hidden_layer_sizes' : hl_vals, 'solver' : solv_vals}\n",
    "\n",
    "# Train a dummy Neural Net model with default values\n",
    "dummy_nn = train_dummy_model(X_trn, y_trn, X_tst, y_tst, sklearn.neural_network.MLPRegressor)\n",
    "\n",
    "# Train different Neural Net models, using grid search and cross validation to find best hyperparameters.\n",
    "gs_nn = grid_search(X_trn, y_trn, X_tst, y_tst, sklearn.neural_network.MLPRegressor,param_grid_nnr,activation='relu',max_iter=1000,batch_size=100,learning_rate_init=0.01,random_state=0)\n",
    "\n",
    "# Plot heatmap of the gridsearch\n",
    "plot_gridsearch_2(gs_nn, hl_vals, solv_vals, 'hidden_layer_sizes', 'solver')"
   ]
  },
  {
   "cell_type": "code",
   "execution_count": null,
   "metadata": {},
   "outputs": [],
   "source": []
  }
 ],
 "metadata": {
  "kernelspec": {
   "display_name": "Python 3",
   "language": "python",
   "name": "python3"
  },
  "language_info": {
   "codemirror_mode": {
    "name": "ipython",
    "version": 3
   },
   "file_extension": ".py",
   "mimetype": "text/x-python",
   "name": "python",
   "nbconvert_exporter": "python",
   "pygments_lexer": "ipython3",
   "version": "3.8.5"
  }
 },
 "nbformat": 4,
 "nbformat_minor": 4
}
